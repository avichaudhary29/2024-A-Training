{
  "nbformat": 4,
  "nbformat_minor": 0,
  "metadata": {
    "colab": {
      "provenance": [],
      "toc_visible": true
    },
    "kernelspec": {
      "name": "python3",
      "display_name": "Python 3"
    },
    "language_info": {
      "name": "python"
    }
  },
  "cells": [
    {
      "cell_type": "markdown",
      "source": [],
      "metadata": {
        "id": "8E7eFWmB8tiL"
      }
    },
    {
      "cell_type": "markdown",
      "source": [
        "# Question 1\n",
        "\n",
        "\n",
        "The goal of this project is to develop a machine learning model that can accurately classify handwritten digits in a given dataset. The dataset consists of images of handwritten digits ranging from 0 to 9.\n",
        "\n",
        "The boiler plate has been given below.\n",
        "\n",
        "\n",
        "Sample Input:\n",
        "\n",
        "![image.png](data:image/png;base64,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)\n",
        "\n",
        "Output:\n",
        "\n",
        "3\n"
      ],
      "metadata": {
        "id": "b2xI-w5JDAZg"
      }
    },
    {
      "cell_type": "code",
      "source": [
        "pip install keras"
      ],
      "metadata": {
        "id": "S0qAH47NRlE7",
        "outputId": "daaaffa7-80ff-4a58-a3a3-bc8019ecc24e",
        "colab": {
          "base_uri": "https://localhost:8080/"
        }
      },
      "execution_count": 11,
      "outputs": [
        {
          "output_type": "stream",
          "name": "stdout",
          "text": [
            "Requirement already satisfied: keras in /usr/local/lib/python3.10/dist-packages (2.12.0)\n"
          ]
        }
      ]
    },
    {
      "cell_type": "code",
      "source": [
        "pip install tensorflow"
      ],
      "metadata": {
        "id": "HEqFsDNCRXNF",
        "outputId": "08f81d3d-5c8c-4a32-93f5-899791f84ba1",
        "colab": {
          "base_uri": "https://localhost:8080/"
        }
      },
      "execution_count": 5,
      "outputs": [
        {
          "output_type": "stream",
          "name": "stdout",
          "text": [
            "Requirement already satisfied: tensorflow in /usr/local/lib/python3.10/dist-packages (2.12.0)\n",
            "Requirement already satisfied: absl-py>=1.0.0 in /usr/local/lib/python3.10/dist-packages (from tensorflow) (1.4.0)\n",
            "Requirement already satisfied: astunparse>=1.6.0 in /usr/local/lib/python3.10/dist-packages (from tensorflow) (1.6.3)\n",
            "Requirement already satisfied: flatbuffers>=2.0 in /usr/local/lib/python3.10/dist-packages (from tensorflow) (23.5.26)\n",
            "Requirement already satisfied: gast<=0.4.0,>=0.2.1 in /usr/local/lib/python3.10/dist-packages (from tensorflow) (0.4.0)\n",
            "Requirement already satisfied: google-pasta>=0.1.1 in /usr/local/lib/python3.10/dist-packages (from tensorflow) (0.2.0)\n",
            "Requirement already satisfied: grpcio<2.0,>=1.24.3 in /usr/local/lib/python3.10/dist-packages (from tensorflow) (1.56.2)\n",
            "Requirement already satisfied: h5py>=2.9.0 in /usr/local/lib/python3.10/dist-packages (from tensorflow) (3.8.0)\n",
            "Requirement already satisfied: jax>=0.3.15 in /usr/local/lib/python3.10/dist-packages (from tensorflow) (0.4.13)\n",
            "Requirement already satisfied: keras<2.13,>=2.12.0 in /usr/local/lib/python3.10/dist-packages (from tensorflow) (2.12.0)\n",
            "Requirement already satisfied: libclang>=13.0.0 in /usr/local/lib/python3.10/dist-packages (from tensorflow) (16.0.6)\n",
            "Requirement already satisfied: numpy<1.24,>=1.22 in /usr/local/lib/python3.10/dist-packages (from tensorflow) (1.22.4)\n",
            "Requirement already satisfied: opt-einsum>=2.3.2 in /usr/local/lib/python3.10/dist-packages (from tensorflow) (3.3.0)\n",
            "Requirement already satisfied: packaging in /usr/local/lib/python3.10/dist-packages (from tensorflow) (23.1)\n",
            "Requirement already satisfied: protobuf!=4.21.0,!=4.21.1,!=4.21.2,!=4.21.3,!=4.21.4,!=4.21.5,<5.0.0dev,>=3.20.3 in /usr/local/lib/python3.10/dist-packages (from tensorflow) (3.20.3)\n",
            "Requirement already satisfied: setuptools in /usr/local/lib/python3.10/dist-packages (from tensorflow) (67.7.2)\n",
            "Requirement already satisfied: six>=1.12.0 in /usr/local/lib/python3.10/dist-packages (from tensorflow) (1.16.0)\n",
            "Requirement already satisfied: tensorboard<2.13,>=2.12 in /usr/local/lib/python3.10/dist-packages (from tensorflow) (2.12.3)\n",
            "Requirement already satisfied: tensorflow-estimator<2.13,>=2.12.0 in /usr/local/lib/python3.10/dist-packages (from tensorflow) (2.12.0)\n",
            "Requirement already satisfied: termcolor>=1.1.0 in /usr/local/lib/python3.10/dist-packages (from tensorflow) (2.3.0)\n",
            "Requirement already satisfied: typing-extensions>=3.6.6 in /usr/local/lib/python3.10/dist-packages (from tensorflow) (4.7.1)\n",
            "Requirement already satisfied: wrapt<1.15,>=1.11.0 in /usr/local/lib/python3.10/dist-packages (from tensorflow) (1.14.1)\n",
            "Requirement already satisfied: tensorflow-io-gcs-filesystem>=0.23.1 in /usr/local/lib/python3.10/dist-packages (from tensorflow) (0.32.0)\n",
            "Requirement already satisfied: wheel<1.0,>=0.23.0 in /usr/local/lib/python3.10/dist-packages (from astunparse>=1.6.0->tensorflow) (0.41.0)\n",
            "Requirement already satisfied: ml-dtypes>=0.1.0 in /usr/local/lib/python3.10/dist-packages (from jax>=0.3.15->tensorflow) (0.2.0)\n",
            "Requirement already satisfied: scipy>=1.7 in /usr/local/lib/python3.10/dist-packages (from jax>=0.3.15->tensorflow) (1.10.1)\n",
            "Requirement already satisfied: google-auth<3,>=1.6.3 in /usr/local/lib/python3.10/dist-packages (from tensorboard<2.13,>=2.12->tensorflow) (2.17.3)\n",
            "Requirement already satisfied: google-auth-oauthlib<1.1,>=0.5 in /usr/local/lib/python3.10/dist-packages (from tensorboard<2.13,>=2.12->tensorflow) (1.0.0)\n",
            "Requirement already satisfied: markdown>=2.6.8 in /usr/local/lib/python3.10/dist-packages (from tensorboard<2.13,>=2.12->tensorflow) (3.4.4)\n",
            "Requirement already satisfied: requests<3,>=2.21.0 in /usr/local/lib/python3.10/dist-packages (from tensorboard<2.13,>=2.12->tensorflow) (2.27.1)\n",
            "Requirement already satisfied: tensorboard-data-server<0.8.0,>=0.7.0 in /usr/local/lib/python3.10/dist-packages (from tensorboard<2.13,>=2.12->tensorflow) (0.7.1)\n",
            "Requirement already satisfied: werkzeug>=1.0.1 in /usr/local/lib/python3.10/dist-packages (from tensorboard<2.13,>=2.12->tensorflow) (2.3.6)\n",
            "Requirement already satisfied: cachetools<6.0,>=2.0.0 in /usr/local/lib/python3.10/dist-packages (from google-auth<3,>=1.6.3->tensorboard<2.13,>=2.12->tensorflow) (5.3.1)\n",
            "Requirement already satisfied: pyasn1-modules>=0.2.1 in /usr/local/lib/python3.10/dist-packages (from google-auth<3,>=1.6.3->tensorboard<2.13,>=2.12->tensorflow) (0.3.0)\n",
            "Requirement already satisfied: rsa<5,>=3.1.4 in /usr/local/lib/python3.10/dist-packages (from google-auth<3,>=1.6.3->tensorboard<2.13,>=2.12->tensorflow) (4.9)\n",
            "Requirement already satisfied: requests-oauthlib>=0.7.0 in /usr/local/lib/python3.10/dist-packages (from google-auth-oauthlib<1.1,>=0.5->tensorboard<2.13,>=2.12->tensorflow) (1.3.1)\n",
            "Requirement already satisfied: urllib3<1.27,>=1.21.1 in /usr/local/lib/python3.10/dist-packages (from requests<3,>=2.21.0->tensorboard<2.13,>=2.12->tensorflow) (1.26.16)\n",
            "Requirement already satisfied: certifi>=2017.4.17 in /usr/local/lib/python3.10/dist-packages (from requests<3,>=2.21.0->tensorboard<2.13,>=2.12->tensorflow) (2023.7.22)\n",
            "Requirement already satisfied: charset-normalizer~=2.0.0 in /usr/local/lib/python3.10/dist-packages (from requests<3,>=2.21.0->tensorboard<2.13,>=2.12->tensorflow) (2.0.12)\n",
            "Requirement already satisfied: idna<4,>=2.5 in /usr/local/lib/python3.10/dist-packages (from requests<3,>=2.21.0->tensorboard<2.13,>=2.12->tensorflow) (3.4)\n",
            "Requirement already satisfied: MarkupSafe>=2.1.1 in /usr/local/lib/python3.10/dist-packages (from werkzeug>=1.0.1->tensorboard<2.13,>=2.12->tensorflow) (2.1.3)\n",
            "Requirement already satisfied: pyasn1<0.6.0,>=0.4.6 in /usr/local/lib/python3.10/dist-packages (from pyasn1-modules>=0.2.1->google-auth<3,>=1.6.3->tensorboard<2.13,>=2.12->tensorflow) (0.5.0)\n",
            "Requirement already satisfied: oauthlib>=3.0.0 in /usr/local/lib/python3.10/dist-packages (from requests-oauthlib>=0.7.0->google-auth-oauthlib<1.1,>=0.5->tensorboard<2.13,>=2.12->tensorflow) (3.2.2)\n"
          ]
        }
      ]
    },
    {
      "cell_type": "code",
      "source": [
        "# importing the dataset\n",
        "\n",
        "from keras.datasets import mnist\n",
        "\n",
        "(X_train, y_train), (X_test, y_test) = mnist.load_data()\n",
        "\n",
        "print('Training set shape:', X_train.shape)\n",
        "print('Test set shape:', X_test.shape)\n"
      ],
      "metadata": {
        "id": "yKblyMofiGsj",
        "outputId": "87c30921-8f66-45fb-87dd-da5f5b26b8ce",
        "colab": {
          "base_uri": "https://localhost:8080/"
        }
      },
      "execution_count": 8,
      "outputs": [
        {
          "output_type": "stream",
          "name": "stdout",
          "text": [
            "Training set shape: (60000, 28, 28)\n",
            "Test set shape: (10000, 28, 28)\n"
          ]
        }
      ]
    },
    {
      "cell_type": "code",
      "source": [
        "import tensorflow as tf\n",
        "from tensorflow.keras import layers , models\n",
        "(train_images, train_labels), (test_images, test_labels) = mnist.load_data()\n",
        "train_images, test_images = train_images / 255.0 , test_images / 255.0 #Normalize pixel values to 0,1\n",
        "#Reshape the image\n",
        "train_images = train_images[..., tf.newaxis]\n",
        "test_images = test_images[..., tf.newaxis]"
      ],
      "metadata": {
        "id": "c9MoJJo9RJET"
      },
      "execution_count": 13,
      "outputs": []
    },
    {
      "cell_type": "code",
      "source": [
        "#build cnn model\n",
        "model = models.Sequential([\n",
        "    layers.Conv2D(32, (3, 3), activation ='relu', input_shape = (28, 28, 1)),\n",
        "    layers.MaxPooling2D((2,2)),\n",
        "    layers.Flatten(),\n",
        "    layers.Dense(128, activation = 'relu'),\n",
        "    layers.Dense(10, activation = 'softmax')\n",
        "])"
      ],
      "metadata": {
        "id": "sKsJGXzKT1oE"
      },
      "execution_count": 16,
      "outputs": []
    },
    {
      "cell_type": "code",
      "source": [
        "#write your code here\n",
        "\n",
        "#compile the model\n",
        "model.compile(optimizer = 'adam',\n",
        "              loss = 'sparse_categorical_crossentropy',\n",
        "              metrics=['accuracy'])\n",
        "#train the model\n",
        "model.fit(train_images, train_labels, epochs=10, batch_size=32)\n",
        "#Evaluate the model\n",
        "test_loss,test_accuracy = model.evaluate(test_images, test_labels)\n",
        "print(\"Test Accuracy :\",test_accuracy)"
      ],
      "metadata": {
        "id": "whDKjvrR8ZPJ",
        "outputId": "3b5311fe-0c59-4589-a5c7-19b23933d63f",
        "colab": {
          "base_uri": "https://localhost:8080/"
        }
      },
      "execution_count": 18,
      "outputs": [
        {
          "output_type": "stream",
          "name": "stdout",
          "text": [
            "Epoch 1/10\n",
            "1875/1875 [==============================] - 27s 14ms/step - loss: 0.1423 - accuracy: 0.9575\n",
            "Epoch 2/10\n",
            "1875/1875 [==============================] - 28s 15ms/step - loss: 0.0502 - accuracy: 0.9848\n",
            "Epoch 3/10\n",
            "1875/1875 [==============================] - 27s 15ms/step - loss: 0.0315 - accuracy: 0.9898\n",
            "Epoch 4/10\n",
            "1875/1875 [==============================] - 26s 14ms/step - loss: 0.0201 - accuracy: 0.9937\n",
            "Epoch 5/10\n",
            "1875/1875 [==============================] - 26s 14ms/step - loss: 0.0138 - accuracy: 0.9954\n",
            "Epoch 6/10\n",
            "1875/1875 [==============================] - 26s 14ms/step - loss: 0.0098 - accuracy: 0.9967\n",
            "Epoch 7/10\n",
            "1875/1875 [==============================] - 27s 14ms/step - loss: 0.0076 - accuracy: 0.9975\n",
            "Epoch 8/10\n",
            "1875/1875 [==============================] - 26s 14ms/step - loss: 0.0052 - accuracy: 0.9983\n",
            "Epoch 9/10\n",
            "1875/1875 [==============================] - 26s 14ms/step - loss: 0.0059 - accuracy: 0.9981\n",
            "Epoch 10/10\n",
            "1875/1875 [==============================] - 26s 14ms/step - loss: 0.0047 - accuracy: 0.9984\n",
            "313/313 [==============================] - 1s 4ms/step - loss: 0.0687 - accuracy: 0.9844\n",
            "Test Accuracy : 0.9843999743461609\n"
          ]
        }
      ]
    },
    {
      "cell_type": "code",
      "source": [
        "from tensorflow.keras.preprocessing import image\n"
      ],
      "metadata": {
        "id": "QuEYNiQmXSd7"
      },
      "execution_count": 23,
      "outputs": []
    },
    {
      "cell_type": "code",
      "source": [
        "# After training the model, run this to test the model\n",
        "# Replace model and image with your model and image\n",
        "\n",
        "from keras.preprocessing import image\n",
        "import numpy as np\n",
        "\n",
        "img_path = 'image_name.png' #enter your image name here\n",
        "img = image.load_img(img_path, target_size=(28, 28), grayscale=True)\n",
        "\n",
        "img_array = image.img_to_array(img)\n",
        "\n",
        "img_array = img_array.reshape((1, 28, 28, 1))\n",
        "img_array = img_array.astype('float32') / 255.0\n",
        "\n",
        "predictions = model.predict(img_array) # here model indicates is your trained model\n",
        "\n",
        "predicted_label = np.argmax(predictions)\n",
        "\n",
        "print(\"Predicted digit:\", predicted_label)"
      ],
      "metadata": {
        "id": "NoqaALIli6Bb",
        "outputId": "6a48c28a-0b4c-406c-8214-b95cdc868f1c",
        "colab": {
          "base_uri": "https://localhost:8080/",
          "height": 235
        }
      },
      "execution_count": 21,
      "outputs": [
        {
          "output_type": "error",
          "ename": "AttributeError",
          "evalue": "ignored",
          "traceback": [
            "\u001b[0;31m---------------------------------------------------------------------------\u001b[0m",
            "\u001b[0;31mAttributeError\u001b[0m                            Traceback (most recent call last)",
            "\u001b[0;32m<ipython-input-21-20d0d55ee294>\u001b[0m in \u001b[0;36m<cell line: 8>\u001b[0;34m()\u001b[0m\n\u001b[1;32m      6\u001b[0m \u001b[0;34m\u001b[0m\u001b[0m\n\u001b[1;32m      7\u001b[0m \u001b[0mimg_path\u001b[0m \u001b[0;34m=\u001b[0m \u001b[0;34m'image_name.png'\u001b[0m \u001b[0;31m#enter your image name here\u001b[0m\u001b[0;34m\u001b[0m\u001b[0;34m\u001b[0m\u001b[0m\n\u001b[0;32m----> 8\u001b[0;31m \u001b[0mimg\u001b[0m \u001b[0;34m=\u001b[0m \u001b[0mimage\u001b[0m\u001b[0;34m.\u001b[0m\u001b[0mload_img\u001b[0m\u001b[0;34m(\u001b[0m\u001b[0mimg_path\u001b[0m\u001b[0;34m,\u001b[0m \u001b[0mtarget_size\u001b[0m\u001b[0;34m=\u001b[0m\u001b[0;34m(\u001b[0m\u001b[0;36m28\u001b[0m\u001b[0;34m,\u001b[0m \u001b[0;36m28\u001b[0m\u001b[0;34m)\u001b[0m\u001b[0;34m,\u001b[0m \u001b[0mgrayscale\u001b[0m\u001b[0;34m=\u001b[0m\u001b[0;32mTrue\u001b[0m\u001b[0;34m)\u001b[0m\u001b[0;34m\u001b[0m\u001b[0;34m\u001b[0m\u001b[0m\n\u001b[0m\u001b[1;32m      9\u001b[0m \u001b[0;34m\u001b[0m\u001b[0m\n\u001b[1;32m     10\u001b[0m \u001b[0mimg_array\u001b[0m \u001b[0;34m=\u001b[0m \u001b[0mimage\u001b[0m\u001b[0;34m.\u001b[0m\u001b[0mimg_to_array\u001b[0m\u001b[0;34m(\u001b[0m\u001b[0mimg\u001b[0m\u001b[0;34m)\u001b[0m\u001b[0;34m\u001b[0m\u001b[0;34m\u001b[0m\u001b[0m\n",
            "\u001b[0;31mAttributeError\u001b[0m: module 'keras.preprocessing.image' has no attribute 'load_img'"
          ]
        }
      ]
    }
  ]
}